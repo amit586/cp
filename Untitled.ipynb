{
 "cells": [
  {
   "cell_type": "code",
   "execution_count": 3,
   "metadata": {},
   "outputs": [
    {
     "ename": "SyntaxError",
     "evalue": "invalid syntax (<ipython-input-3-6fb93ab7567b>, line 6)",
     "output_type": "error",
     "traceback": [
      "\u001b[0;36m  File \u001b[0;32m\"<ipython-input-3-6fb93ab7567b>\"\u001b[0;36m, line \u001b[0;32m6\u001b[0m\n\u001b[0;31m    temp=temp->next\u001b[0m\n\u001b[0m              ^\u001b[0m\n\u001b[0;31mSyntaxError\u001b[0m\u001b[0;31m:\u001b[0m invalid syntax\n"
     ]
    }
   ],
   "source": [
    "def rotate(head,k):\n",
    "    # Your code goes here\n",
    "    len = 1\n",
    "    temp=head\n",
    "    while temp and temp.next:\n",
    "        temp=temp->next\n",
    "        len+=1\n",
    "    tail = temp\n",
    "    i=1\n",
    "    temp=head\n",
    "    while i<len -k and temp:\n",
    "        temp=temp->next\n",
    "    ans = temp->next\n",
    "    temp->next=None\n",
    "    tail->next=head\n",
    "    return ans\n",
    "        "
   ]
  },
  {
   "cell_type": "code",
   "execution_count": null,
   "metadata": {},
   "outputs": [],
   "source": []
  }
 ],
 "metadata": {
  "kernelspec": {
   "display_name": "Python 3",
   "language": "python",
   "name": "python3"
  },
  "language_info": {
   "codemirror_mode": {
    "name": "ipython",
    "version": 3
   },
   "file_extension": ".py",
   "mimetype": "text/x-python",
   "name": "python",
   "nbconvert_exporter": "python",
   "pygments_lexer": "ipython3",
   "version": "3.7.6"
  }
 },
 "nbformat": 4,
 "nbformat_minor": 4
}
